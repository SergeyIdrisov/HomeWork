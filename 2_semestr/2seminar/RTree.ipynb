{
 "cells": [
  {
   "cell_type": "code",
   "execution_count": 2,
   "id": "fd87f5e8-04e6-4268-8f5d-24ec4150481d",
   "metadata": {},
   "outputs": [],
   "source": [
    "import numpy as np"
   ]
  },
  {
   "cell_type": "code",
   "execution_count": 202,
   "id": "288fd675-67b1-41e8-8808-e2160c048b7b",
   "metadata": {},
   "outputs": [],
   "source": [
    "class SumTree:\n",
    "\n",
    "    def __init__(self, data: list):\n",
    "        ln = len(data)\n",
    "        lb = np.log2(ln)\n",
    "        if lb == int(lb):\n",
    "            self.data = data\n",
    "        else:\n",
    "            self.data = data\n",
    "            lb = int(lb)+1\n",
    "            for i in range(ln,2**lb):\n",
    "                self.data.append(0)\n",
    "\n",
    "        self.tree = [0 for i in range(len(self.data)-1)] + self.data\n",
    "        self.calc_tree()\n",
    "\n",
    "    def calc_tree(self) -> None:\n",
    "        for i in range(len(self.tree)+1, 2, -2):\n",
    "            s1 = self.tree[i-2]\n",
    "            s2 = self.tree[i-3] \n",
    "            sm = s1+s2\n",
    "            self.tree[(i-4)//2] = sm\n",
    "\n",
    "\n",
    "def Sum(tree, l:int, r:int):\n",
    "    def tree_sum(l:int, r:int, tl = 0, tr = len(tree.data)-1): # len(tree.data)-1\n",
    "        \n",
    "        root = tree.tree[0]\n",
    "        #left from root - [0,(len(self.data))//2]\n",
    "        #right from root - [len(self.data)//2,len(self.data)]\n",
    "        sum = 0\n",
    "        \n",
    "\n",
    "        # если встретили лист\n",
    "        tm = (tl+tr+1)//2\n",
    "        if tr == tl:\n",
    "            return tree.data[tm]\n",
    "\n",
    "        # если отрезок на который смотрим полностью внутри запрашиваемого\n",
    "        if l <= tl and r >= tr:\n",
    "            \n",
    "            index1 = (len(tree.data)-1) + tr # 14 \n",
    "            index2 = (len(tree.data)-1) + tl + 1 #8\n",
    "            \n",
    "            while index1 != index2:\n",
    "                index1 = max((index1-2)//2, 0) #6 \n",
    "                index2 = max((index2-2)//2, 0) #3\n",
    "            if tl+1 == tr:\n",
    "                return tree.tree[(index1-2)//2]\n",
    "            else:\n",
    "                return tree.tree[index1]\n",
    "\n",
    "\n",
    "        #если надо, спускаемся по дереву дальше\n",
    "        go_left = l < tm\n",
    "        go_right = r >= tm\n",
    "        \n",
    "        print(go_left, go_right, tl, tr, tm)\n",
    "        \n",
    "        if go_left: \n",
    "            sum += tree_sum(l, r, tl = tl, tr = tm-1)\n",
    "        if go_right:\n",
    "            sum += tree_sum(l, r, tl = tm, tr = tr)\n",
    "        \n",
    "        return sum\n",
    "    return tree_sum(l,r)\n",
    "#[1,2,3,4,5,6,7,]\n",
    "# 0 1 2 3 4 5 6\n",
    "\n"
   ]
  },
  {
   "cell_type": "code",
   "execution_count": 203,
   "id": "de5ce7be-2452-4ea2-a38a-e133c3b7de1a",
   "metadata": {},
   "outputs": [
    {
     "name": "stdout",
     "output_type": "stream",
     "text": [
      "5\n"
     ]
    }
   ],
   "source": [
    "print(int(np.log2(17))+1)"
   ]
  },
  {
   "cell_type": "code",
   "execution_count": 204,
   "id": "4e4af22f-04cc-4dcf-9c96-d70197867cda",
   "metadata": {},
   "outputs": [],
   "source": [
    "tree = SumTree([1,2,3,4,5,6,7,8])"
   ]
  },
  {
   "cell_type": "code",
   "execution_count": 205,
   "id": "ef1daf5e-035f-440c-895c-4b2783323a0f",
   "metadata": {},
   "outputs": [
    {
     "name": "stdout",
     "output_type": "stream",
     "text": [
      "[36, 10, 26, 3, 7, 11, 15, 1, 2, 3, 4, 5, 6, 7, 8]\n"
     ]
    }
   ],
   "source": [
    "print(tree.tree)"
   ]
  },
  {
   "cell_type": "code",
   "execution_count": 211,
   "id": "2af7d0e9-86c4-4a11-b74d-fbf1befe2ea9",
   "metadata": {},
   "outputs": [
    {
     "name": "stdout",
     "output_type": "stream",
     "text": [
      "True True 0 7 4\n",
      "True False 4 7 6\n",
      "True False 4 5 5\n"
     ]
    },
    {
     "data": {
      "text/plain": [
       "41"
      ]
     },
     "execution_count": 211,
     "metadata": {},
     "output_type": "execute_result"
    }
   ],
   "source": [
    "### ls = [1,2,3]\n",
    "Sum(tree,3,5)"
   ]
  },
  {
   "cell_type": "code",
   "execution_count": 207,
   "id": "b1cb675f-5296-465b-af26-a8ddabe1fe9b",
   "metadata": {},
   "outputs": [
    {
     "ename": "TypeError",
     "evalue": "Sum() missing 3 required positional arguments: 'tree', 'l', and 'r'",
     "output_type": "error",
     "traceback": [
      "\u001b[0;31m---------------------------------------------------------------------------\u001b[0m",
      "\u001b[0;31mTypeError\u001b[0m                                 Traceback (most recent call last)",
      "Cell \u001b[0;32mIn[207], line 1\u001b[0m\n\u001b[0;32m----> 1\u001b[0m \u001b[38;5;28mprint\u001b[39m(\u001b[43mSum\u001b[49m\u001b[43m(\u001b[49m\u001b[43m)\u001b[49m)\n",
      "\u001b[0;31mTypeError\u001b[0m: Sum() missing 3 required positional arguments: 'tree', 'l', and 'r'"
     ]
    }
   ],
   "source": [
    "print(Sum())"
   ]
  },
  {
   "cell_type": "code",
   "execution_count": null,
   "id": "cb928e6c-c9ed-4eb1-90f8-2ab297382099",
   "metadata": {},
   "outputs": [],
   "source": []
  }
 ],
 "metadata": {
  "kernelspec": {
   "display_name": "Python 3 (ipykernel)",
   "language": "python",
   "name": "python3"
  },
  "language_info": {
   "codemirror_mode": {
    "name": "ipython",
    "version": 3
   },
   "file_extension": ".py",
   "mimetype": "text/x-python",
   "name": "python",
   "nbconvert_exporter": "python",
   "pygments_lexer": "ipython3",
   "version": "3.11.6"
  }
 },
 "nbformat": 4,
 "nbformat_minor": 5
}
